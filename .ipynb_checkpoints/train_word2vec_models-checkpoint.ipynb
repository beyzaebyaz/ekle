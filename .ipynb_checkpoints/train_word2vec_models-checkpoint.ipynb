{
 "cells": [
  {
   "cell_type": "code",
   "execution_count": null,
   "id": "e554d96a",
   "metadata": {},
   "outputs": [
    {
     "name": "stdout",
     "output_type": "stream",
     "text": [
      "\n",
      " LEMMATIZED veri seti ile model eğitimi başlıyor\n",
      "\n"
     ]
    }
   ],
   "source": [
    "import pandas as pd\n",
    "from gensim.models import Word2Vec\n",
    "import os\n",
    "import time\n",
    "\n",
    "# 1. Lemmatize ve stem edilmiş verileri oku\n",
    "df_lemma = pd.read_csv(\"reviews_lemmatized.csv\")\n",
    "df_stem = pd.read_csv(\"reviews_stemmed.csv\")\n",
    "\n",
    "# 2. Tokenize et\n",
    "lemma_corpus = [str(sentence).split() for sentence in df_lemma[\"cleanedReview\"].dropna()]\n",
    "stem_corpus = [str(sentence).split() for sentence in df_stem[\"cleanedReview\"].dropna()]\n",
    "\n",
    "# 3. Parametreler\n",
    "params = [\n",
    "    {'model_type': 'cbow', 'window': 2, 'vector_size': 100},\n",
    "    {'model_type': 'skipgram', 'window': 2, 'vector_size': 100},\n",
    "    {'model_type': 'cbow', 'window': 4, 'vector_size': 100},\n",
    "    {'model_type': 'skipgram', 'window': 4, 'vector_size': 100},\n",
    "    {'model_type': 'cbow', 'window': 2, 'vector_size': 300},\n",
    "    {'model_type': 'skipgram', 'window': 2, 'vector_size': 300},\n",
    "    {'model_type': 'cbow', 'window': 4, 'vector_size': 300},\n",
    "    {'model_type': 'skipgram', 'window': 4, 'vector_size': 300}\n",
    "]\n",
    "\n",
    "# 4. Model eğitim ve kaydetme\n",
    "def train_models(corpus, corpus_type):\n",
    "    print(f\"\\n {corpus_type.upper()} veri seti ile model eğitimi başlıyor\\n\")\n",
    "\n",
    "    # models klasörünü oluştur\n",
    "    os.makedirs(\"models0\", exist_ok=True)\n",
    "\n",
    "    for p in params:\n",
    "        sg = 1 if p['model_type'] == 'skipgram' else 0\n",
    "        model_name = f\"{corpus_type}_{p['model_type']}_win{p['window']}_dim{p['vector_size']}.model\"\n",
    "        model_path = os.path.join(\"models0\", model_name)\n",
    "\n",
    "        start = time.time()\n",
    "        model = Word2Vec(\n",
    "            sentences=corpus,\n",
    "            vector_size=p['vector_size'],\n",
    "            window=p['window'],\n",
    "            sg=sg,\n",
    "            min_count=1,\n",
    "            workers=4,\n",
    "            epochs=10\n",
    "        )\n",
    "        end = time.time()\n",
    "        model.save(model_path)\n",
    "\n",
    "        print(f\"✅ Model: {model_name}\")\n",
    "        print(f\"   ➤ Model Türü     : {p['model_type']}\")\n",
    "        print(f\"   ➤ Window         : {p['window']}\")\n",
    "        print(f\"   ➤ Vektör Boyutu  : {p['vector_size']}\")\n",
    "        print(f\"   ➤ Eğitim Süresi  : {round(end - start, 2)} saniye\")\n",
    "        print(f\"   ➤ Vocab Uzunluğu : {len(model.wv)}\")\n",
    "\n",
    "        if \"music\" in model.wv:\n",
    "            print(f\"   ➤ 'music' kelimesine en yakın 5 kelime:\")\n",
    "            for word, sim in model.wv.most_similar(\"music\", topn=5):\n",
    "                print(f\"     {word} ({sim:.3f})\")\n",
    "        else:\n",
    "            print(\"   ➤ 'music' kelimesi modelde bulunamadı.\")\n",
    "        print(\"-\" * 60)\n",
    "\n",
    "# 5. Tüm modelleri sırayla eğit\n",
    "train_models(lemma_corpus, \"lemmatized\")\n",
    "train_models(stem_corpus, \"stemmed\")\n"
   ]
  },
  {
   "cell_type": "code",
   "execution_count": null,
   "id": "bf818a36",
   "metadata": {},
   "outputs": [],
   "source": [
    "\n"
   ]
  },
  {
   "cell_type": "code",
   "execution_count": null,
   "id": "7a52408f",
   "metadata": {},
   "outputs": [],
   "source": []
  }
 ],
 "metadata": {
  "kernelspec": {
   "display_name": "Python 3 (ipykernel)",
   "language": "python",
   "name": "python3"
  },
  "language_info": {
   "codemirror_mode": {
    "name": "ipython",
    "version": 3
   },
   "file_extension": ".py",
   "mimetype": "text/x-python",
   "name": "python",
   "nbconvert_exporter": "python",
   "pygments_lexer": "ipython3",
   "version": "3.9.12"
  }
 },
 "nbformat": 4,
 "nbformat_minor": 5
}
