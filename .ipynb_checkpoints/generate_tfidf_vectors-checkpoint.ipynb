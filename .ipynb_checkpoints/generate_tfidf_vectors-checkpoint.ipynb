{
 "cells": [
  {
   "cell_type": "code",
   "execution_count": 1,
   "id": "8522a728",
   "metadata": {},
   "outputs": [
    {
     "name": "stderr",
     "output_type": "stream",
     "text": [
      "[nltk_data] Downloading package punkt to\n",
      "[nltk_data]     C:\\Users\\Beyza\\AppData\\Roaming\\nltk_data...\n",
      "[nltk_data]   Package punkt is already up-to-date!\n",
      "[nltk_data] Downloading package stopwords to\n",
      "[nltk_data]     C:\\Users\\Beyza\\AppData\\Roaming\\nltk_data...\n",
      "[nltk_data]   Package stopwords is already up-to-date!\n",
      "[nltk_data] Downloading package wordnet to\n",
      "[nltk_data]     C:\\Users\\Beyza\\AppData\\Roaming\\nltk_data...\n",
      "[nltk_data]   Package wordnet is already up-to-date!\n"
     ]
    },
    {
     "name": "stdout",
     "output_type": "stream",
     "text": [
      "TF-IDF çıktıları başarıyla kaydedildi: tfidf_lemmatized_5000.csv ve tfidf_stemmed_5000.csv\n"
     ]
    }
   ],
   "source": [
    "import pandas as pd\n",
    "import nltk\n",
    "import os\n",
    "import time\n",
    "from nltk.corpus import stopwords\n",
    "from nltk.stem import WordNetLemmatizer, PorterStemmer\n",
    "from sklearn.feature_extraction.text import TfidfVectorizer\n",
    "\n",
    "# NLTK verilerini indir\n",
    "nltk.download('punkt')\n",
    "nltk.download('stopwords')\n",
    "nltk.download('wordnet')\n",
    "\n",
    "# 1. Veriyi yükle (ilk 5000 cümle)\n",
    "df = pd.read_csv(\"reviews_cleaned_ultimate.csv\").dropna()\n",
    "sentences = df['cleanedReview'].dropna().head(5000).tolist()\n",
    "\n",
    "# 2. Tokenizasyon ve stopword temizleme\n",
    "stop_words = set(stopwords.words('english'))\n",
    "tokenized = [\n",
    "    [word for word in nltk.word_tokenize(sentence) if word.lower() not in stop_words]\n",
    "    for sentence in sentences\n",
    "]\n",
    "\n",
    "# 3. Lemmatization ve Stemming\n",
    "lemmatizer = WordNetLemmatizer()\n",
    "stemmer = PorterStemmer()\n",
    "\n",
    "lemmatized_sentences = [' '.join([lemmatizer.lemmatize(word.lower()) for word in sent]) for sent in tokenized]\n",
    "stemmed_sentences = [' '.join([stemmer.stem(word.lower()) for word in sent]) for sent in tokenized]\n",
    "\n",
    "# 4. TF-IDF vektörlerini oluştur (max_features ile sınırla)\n",
    "vectorizer_lemma = TfidfVectorizer(max_features=5000)\n",
    "tfidf_matrix_lemma = vectorizer_lemma.fit_transform(lemmatized_sentences)\n",
    "df_tfidf_lemma = pd.DataFrame(tfidf_matrix_lemma.toarray(), columns=vectorizer_lemma.get_feature_names_out())\n",
    "\n",
    "vectorizer_stem = TfidfVectorizer(max_features=5000)\n",
    "tfidf_matrix_stem = vectorizer_stem.fit_transform(stemmed_sentences)\n",
    "df_tfidf_stem = pd.DataFrame(tfidf_matrix_stem.toarray(), columns=vectorizer_stem.get_feature_names_out())\n",
    "\n",
    "# 5. Kayıt klasörü\n",
    "os.makedirs(\"vectors\", exist_ok=True)\n",
    "\n",
    "# 6. CSV olarak kaydet\n",
    "df_tfidf_lemma.to_csv(\"vectors/tfidf_lemmatized_5000.csv\", index=False)\n",
    "df_tfidf_stem.to_csv(\"vectors/tfidf_stemmed_5000.csv\", index=False)\n",
    "\n",
    "print(\"TF-IDF çıktıları başarıyla kaydedildi: tfidf_lemmatized_5000.csv ve tfidf_stemmed_5000.csv\")\n"
   ]
  }
 ],
 "metadata": {
  "kernelspec": {
   "display_name": "Python 3 (ipykernel)",
   "language": "python",
   "name": "python3"
  },
  "language_info": {
   "codemirror_mode": {
    "name": "ipython",
    "version": 3
   },
   "file_extension": ".py",
   "mimetype": "text/x-python",
   "name": "python",
   "nbconvert_exporter": "python",
   "pygments_lexer": "ipython3",
   "version": "3.9.12"
  }
 },
 "nbformat": 4,
 "nbformat_minor": 5
}
